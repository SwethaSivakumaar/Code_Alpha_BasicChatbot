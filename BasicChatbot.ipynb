{
 "cells": [
  {
   "cell_type": "code",
   "execution_count": null,
   "id": "a59ebf18-eb6e-407b-a6cb-0394a89f5c3f",
   "metadata": {},
   "outputs": [
    {
     "name": "stdout",
     "output_type": "stream",
     "text": [
      "Hi! I'm your chatbot. Type 'bye' to exit.\n"
     ]
    },
    {
     "name": "stdin",
     "output_type": "stream",
     "text": [
      "> hello\n"
     ]
    },
    {
     "name": "stdout",
     "output_type": "stream",
     "text": [
      "Hello! How can I help you today?\n"
     ]
    },
    {
     "name": "stdin",
     "output_type": "stream",
     "text": [
      "> what's your name?\n"
     ]
    },
    {
     "name": "stdout",
     "output_type": "stream",
     "text": [
      "Interesting! Can you tell me more?\n"
     ]
    },
    {
     "name": "stdin",
     "output_type": "stream",
     "text": [
      "> how are you?\n"
     ]
    },
    {
     "name": "stdout",
     "output_type": "stream",
     "text": [
      "I'm just a bot, but I'm doing fine! How about you?\n"
     ]
    },
    {
     "name": "stdin",
     "output_type": "stream",
     "text": [
      "> who created you?\n"
     ]
    },
    {
     "name": "stdout",
     "output_type": "stream",
     "text": [
      "I'm here to learn more from you. Could you clarify?\n"
     ]
    }
   ],
   "source": [
    "import nltk\n",
    "from nltk.chat.util import Chat, reflections\n",
    "\n",
    "# Define a set of patterns and responses for the chatbot\n",
    "pairs = [\n",
    "    [\n",
    "        r\"hi|hello|hey\",\n",
    "        [\"Hello! How can I help you today?\", \"Hi there! What can I do for you?\", \"Hey! Need any assistance?\"]\n",
    "    ],\n",
    "    [\n",
    "        r\"how are you(.*)\",\n",
    "        [\"I'm just a bot, but I'm doing fine! How about you?\", \"I'm great, thank you! How can I assist you?\"]\n",
    "    ],\n",
    "    [\n",
    "        r\"(.) your name(.)\",\n",
    "        [\"I'm a chatbot created to assist you. What's your name?\", \"I don't have a name, but you can call me ChatBot.\"]\n",
    "    ],\n",
    "    [\n",
    "        r\"(.) weather (.)\",\n",
    "        [\"I'm not sure, but you can check a weather website for accurate information!\", \"Weather updates are not my strong suit, but I recommend looking online.\"]\n",
    "    ],\n",
    "    [\n",
    "        r\"(.) created you(.)\",\n",
    "        [\"I was created by a programmer who loves coding!\", \"A human developer brought me to life with Python.\"]\n",
    "    ],\n",
    "    [\n",
    "        r\"(.) (help|assistance) (.)\",\n",
    "        [\"Sure, let me know how I can assist you!\", \"I'm here to help! What do you need?\"]\n",
    "    ],\n",
    "    [\n",
    "        r\"bye|quit|exit\",\n",
    "        [\"Goodbye! Have a great day!\", \"See you soon! Take care!\", \"Bye! Come back if you need more help.\"]\n",
    "    ],\n",
    "    [\n",
    "        r\"(.*)\",\n",
    "        [\"I'm not sure I understand. Can you rephrase that?\", \"Interesting! Can you tell me more?\", \"I'm here to learn more from you. Could you clarify?\"]\n",
    "    ]\n",
    "]\n",
    "\n",
    "# Create the chatbot instance\n",
    "chatbot = Chat(pairs, reflections)\n",
    "\n",
    "# Start the chatbot\n",
    "print(\"Hi! I'm your chatbot. Type 'bye' to exit.\")\n",
    "chatbot.converse()"
   ]
  },
  {
   "cell_type": "code",
   "execution_count": null,
   "id": "14b48aae-6231-43e0-9146-3ab8e413ec18",
   "metadata": {},
   "outputs": [],
   "source": []
  }
 ],
 "metadata": {
  "kernelspec": {
   "display_name": "Python 3 (ipykernel)",
   "language": "python",
   "name": "python3"
  },
  "language_info": {
   "codemirror_mode": {
    "name": "ipython",
    "version": 3
   },
   "file_extension": ".py",
   "mimetype": "text/x-python",
   "name": "python",
   "nbconvert_exporter": "python",
   "pygments_lexer": "ipython3",
   "version": "3.12.4"
  }
 },
 "nbformat": 4,
 "nbformat_minor": 5
}
